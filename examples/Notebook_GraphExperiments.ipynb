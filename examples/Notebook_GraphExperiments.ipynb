{
 "cells": [
  {
   "cell_type": "markdown",
   "metadata": {},
   "source": [
    "## Graph Experiments  - **pytwanalysis** - (**TwitterAnalysis**)\n",
    "\n",
    "##### Save results on the experiments spreasheet"
   ]
  },
  {
   "cell_type": "code",
   "execution_count": null,
   "metadata": {},
   "outputs": [],
   "source": []
  },
  {
   "cell_type": "markdown",
   "metadata": {},
   "source": [
    "#### Initialize packages"
   ]
  },
  {
   "cell_type": "code",
   "execution_count": 1,
   "metadata": {},
   "outputs": [],
   "source": [
    "import pytwanalysis as ta\n",
    "from pymongo import MongoClient\n",
    "import time"
   ]
  },
  {
   "cell_type": "code",
   "execution_count": null,
   "metadata": {},
   "outputs": [],
   "source": []
  },
  {
   "cell_type": "markdown",
   "metadata": {},
   "source": [
    "#### Set your mongoDB connection"
   ]
  },
  {
   "cell_type": "code",
   "execution_count": 7,
   "metadata": {},
   "outputs": [],
   "source": [
    "#db connection\n",
    "mongoDBConnectionSTR = \"mongodb://localhost:27017\"\n",
    "client = MongoClient(mongoDBConnectionSTR)\n",
    "db = client.twitter_DB_Tst #choose your DB name here\n",
    "db = client.myTwitterDB_MeToo_bkp_tst #choose your DB name here\n",
    "db = client.twitter_DB_Austin_eom #choose your DB name here"
   ]
  },
  {
   "cell_type": "code",
   "execution_count": null,
   "metadata": {},
   "outputs": [],
   "source": []
  },
  {
   "cell_type": "markdown",
   "metadata": {},
   "source": [
    "#### Set up the folder path you want to save the ouput files"
   ]
  },
  {
   "cell_type": "code",
   "execution_count": 8,
   "metadata": {},
   "outputs": [],
   "source": [
    "BASE_PATH = 'D:\\\\Data\\\\Experiments\\\\Austin2'"
   ]
  },
  {
   "cell_type": "code",
   "execution_count": null,
   "metadata": {},
   "outputs": [],
   "source": []
  },
  {
   "cell_type": "markdown",
   "metadata": {},
   "source": [
    "#### Initialize your TwitterAnalysis object"
   ]
  },
  {
   "cell_type": "code",
   "execution_count": 9,
   "metadata": {},
   "outputs": [],
   "source": [
    "x = ta.TwitterAnalysis(BASE_PATH, db)"
   ]
  },
  {
   "cell_type": "code",
   "execution_count": null,
   "metadata": {},
   "outputs": [],
   "source": []
  },
  {
   "cell_type": "markdown",
   "metadata": {},
   "source": [
    "#### Create all edges for that db"
   ]
  },
  {
   "cell_type": "code",
   "execution_count": 38,
   "metadata": {},
   "outputs": [
    {
     "name": "stdout",
     "output_type": "stream",
     "text": [
      "** exporting edges - Graph type=user_conn_all\n",
      "**   exporting edges for AllPeriods 2020-08-27 18:59:27\n",
      "** exporting edges - END *** - 2020-08-27 19:00:33\n",
      "** exporting edges - Graph type=user_conn_mention\n",
      "**   exporting edges for AllPeriods 2020-08-27 19:00:33\n",
      "** exporting edges - END *** - 2020-08-27 19:01:14\n",
      "** exporting edges - Graph type=user_conn_retweet\n",
      "**   exporting edges for AllPeriods 2020-08-27 19:01:14\n",
      "** exporting edges - END *** - 2020-08-27 19:01:41\n",
      "** exporting edges - Graph type=user_conn_reply\n",
      "**   exporting edges for AllPeriods 2020-08-27 19:01:41\n",
      "** exporting edges - END *** - 2020-08-27 19:01:44\n",
      "** exporting edges - Graph type=user_conn_quote\n",
      "**   exporting edges for AllPeriods 2020-08-27 19:01:44\n",
      "** exporting edges - END *** - 2020-08-27 19:01:58\n",
      "** exporting edges - Graph type=ht_conn\n",
      "**   exporting edges for AllPeriods 2020-08-27 19:01:58\n",
      "** exporting edges - END *** - 2020-08-27 19:02:16\n"
     ]
    }
   ],
   "source": [
    "x.export_mult_types_edges_for_input(type_of_graph = 'all')"
   ]
  },
  {
   "cell_type": "code",
   "execution_count": null,
   "metadata": {},
   "outputs": [],
   "source": []
  },
  {
   "cell_type": "markdown",
   "metadata": {},
   "source": [
    "#### Print EDA\n",
    "###### Save the results on the spreasheet - (Tab \"Graphs-EDA-Data\")\n",
    "###### Please also save the EDA.txt files. "
   ]
  },
  {
   "cell_type": "code",
   "execution_count": 10,
   "metadata": {},
   "outputs": [
    {
     "name": "stdout",
     "output_type": "stream",
     "text": [
      "**** Tweet counts ******\n",
      "                                \n",
      "0  Total Original Tweets   68812\n",
      "1          Total Replies   92469\n",
      "2         Total Retweets  149320\n",
      "3           Total Tweets  310601\n",
      "\n",
      "\n",
      "**** Tweet counts by language ******\n",
      "               \n",
      "0  lang   count\n",
      "1    en  310601\n",
      "\n",
      "\n",
      "**** Tweet counts by month ******\n",
      "                        \n",
      "0  year  month_no  count\n",
      "1  2020         9   1989\n",
      "2  2020         5  50219\n",
      "3  2020         6  59718\n",
      "4  2020         8  54030\n",
      "5  2020         4  59030\n",
      "6  2020         7  61253\n",
      "7  2020         3  24362\n",
      "\n",
      "\n",
      "**** Tweet counts by file ******\n",
      "                   \n",
      "0  file_path  count\n",
      "\n",
      "\n",
      "**** User counts ******\n",
      "                                                                                     \n",
      "0  1    tweet                      Users with at least one document in this db  96019\n",
      "1  2  retweet    Users that were retweeted, but are not part of previous group  25044\n",
      "2  3    quote      Users that were quoted, but are not part of previous groups   2885\n",
      "3  4    reply  Users that were replied to, but are not part of previous groups  12120\n",
      "4  5  mention   Users that were mentioned, but are not part of previous groups  24687\n",
      "\n",
      "\n",
      "** exporting edges - Graph type=user_conn_all\n",
      "**   exporting edges for AllPeriods 2020-09-09 18:56:05\n",
      "** exporting edges - END *** - 2020-09-09 18:56:13\n",
      "\n",
      "\n",
      "*****************************************\n",
      "**** UserConnections_ Graph ******\n",
      "**** Connected Components - Distribution ******\n"
     ]
    },
    {
     "data": {
      "image/png": "[encoded data removed]",
      "text/plain": [
       "<Figure size 1152x720 with 6 Axes>"
      ]
     },
     "metadata": {
      "needs_background": "light"
     },
     "output_type": "display_data"
    },
    {
     "data": {
      "image/png": "[encoded data removed]",
      "text/plain": [
       "<Figure size 1152x720 with 6 Axes>"
      ]
     },
     "metadata": {
      "needs_background": "light"
     },
     "output_type": "display_data"
    },
    {
     "name": "stdout",
     "output_type": "stream",
     "text": [
      "**** Calculating Community Distribution of the Largest Connected Component- (Louvain) ******\n"
     ]
    },
    {
     "data": {
      "image/png": "[encoded data removed]",
      "text/plain": [
       "<Figure size 432x288 with 1 Axes>"
      ]
     },
     "metadata": {
      "needs_background": "light"
     },
     "output_type": "display_data"
    },
    {
     "name": "stdout",
     "output_type": "stream",
     "text": [
      " # of Nodes 152935\n",
      " # of Edges 382197\n",
      " # of Nodes - (Largest Connected Component) 138299\n",
      " # of Edges - (Largest Connected Component) 367299\n",
      " # of Disconnected Graphs 5146\n",
      " # of Disconnected Graphs with 50 or more nodes 8\n",
      " # of Communities found in the largest connected component 150\n",
      " Degree of top 1 most connected user ['1', 'tweet', 'Users with at least one document in this db', '96019']\n",
      " Degree of top 2 most connected user ['2', 'retweet', 'Users that were retweeted, but are not part of previous group', '25044']\n",
      " Degree of top 3 most connected user ['3', 'quote', 'Users that were quoted, but are not part of previous groups', '2885']\n",
      " Degree of top 4 most connected user ['4', 'reply', 'Users that were replied to, but are not part of previous groups', '12120']\n",
      " Average Node Degree of largest connected graph 5.311665304882899\n",
      "*** EDA - END *** - 2020-09-09 18:56:55\n"
     ]
    }
   ],
   "source": [
    "x.eda_analysis()"
   ]
  },
  {
   "cell_type": "code",
   "execution_count": null,
   "metadata": {},
   "outputs": [],
   "source": []
  },
  {
   "cell_type": "markdown",
   "metadata": {},
   "source": [
    "#### Community Metrics"
   ]
  },
  {
   "cell_type": "markdown",
   "metadata": {},
   "source": [
    "##### Choose the graph type to analyze"
   ]
  },
  {
   "cell_type": "code",
   "execution_count": null,
   "metadata": {},
   "outputs": [],
   "source": [
    "## TYPE OF GRAPH ANALYSIS\n",
    "########################################################\n",
    "# Type of graph analysis\n",
    "# Options: user_conn_all,       --All user connections\n",
    "#          user_conn_mention,   --Only Mentions user connections\n",
    "#          user_conn_retweet,   --Only Retweets user connections\n",
    "#          user_conn_reply,     --Only Replies user connections\n",
    "#          user_conn_quote,     --Only Quotes user connections\n",
    "#          ht_conn              --Hashtag connects - (Hashtgs that wereused together)\n",
    "\n",
    "TYPE_OF_GRAPH = 'user_conn_all'\n",
    "#------------------------------------------------------------"
   ]
  },
  {
   "cell_type": "markdown",
   "metadata": {},
   "source": [
    "##### Load the graph"
   ]
  },
  {
   "cell_type": "code",
   "execution_count": null,
   "metadata": {},
   "outputs": [],
   "source": [
    "edge_prefix_str = ''\n",
    "case_ht_str = ''\n",
    "if TYPE_OF_GRAPH == 'user_conn_all':\n",
    "    edge_prefix_str = 'UserConnections_'                \n",
    "elif TYPE_OF_GRAPH == 'user_conn_mention':\n",
    "    edge_prefix_str = 'MentionUserConnections_'    \n",
    "elif TYPE_OF_GRAPH == 'user_conn_retweet':\n",
    "    edge_prefix_str = 'RetweetUserConnections_'    \n",
    "elif TYPE_OF_GRAPH == 'user_conn_reply':\n",
    "    edge_prefix_str = 'ReplyUserConnections_'    \n",
    "elif TYPE_OF_GRAPH == 'user_conn_quote':\n",
    "    edge_prefix_str = 'QuoteUserConnections_'    \n",
    "elif TYPE_OF_GRAPH== 'ht_conn':\n",
    "    edge_prefix_str = 'HTConnection_'\n",
    "    case_ht_str = 'ht_'  \n",
    "        \n",
    "edge_file_path = BASE_PATH + '\\\\data_input_files\\\\' + edge_prefix_str + 'AllPeriods_' + case_ht_str + 'edges.txt'\n",
    "\n",
    "G = x.loadGraphFromFile(edge_file_path)\n",
    "G = x.largest_component_no_self_loops(G)"
   ]
  },
  {
   "cell_type": "code",
   "execution_count": null,
   "metadata": {},
   "outputs": [],
   "source": []
  },
  {
   "cell_type": "markdown",
   "metadata": {},
   "source": [
    "##### Calculate louvain_clustering"
   ]
  },
  {
   "cell_type": "code",
   "execution_count": null,
   "metadata": {},
   "outputs": [],
   "source": [
    "print(\"Calculating...\")\n",
    "starttime = time.time()\n",
    "G, labels, k = x.calculate_louvain_clustering(G)\n",
    "endtime = time.time()\n",
    "print(\"Execution Time:  %s seconds \" % (endtime - starttime))"
   ]
  },
  {
   "cell_type": "code",
   "execution_count": null,
   "metadata": {},
   "outputs": [],
   "source": []
  },
  {
   "cell_type": "markdown",
   "metadata": {},
   "source": [
    "##### Calculate spectral_clustering"
   ]
  },
  {
   "cell_type": "code",
   "execution_count": null,
   "metadata": {},
   "outputs": [],
   "source": [
    "print(\"Calculating...\")\n",
    "starttime = time.time()\n",
    "G, labels, k = x.calculate_spectral_clustering(G, k=k)\n",
    "endtime = time.time()\n",
    "print(\"Execution Time:  %s seconds \" % (endtime - starttime))"
   ]
  },
  {
   "cell_type": "code",
   "execution_count": null,
   "metadata": {},
   "outputs": [],
   "source": []
  },
  {
   "cell_type": "markdown",
   "metadata": {},
   "source": [
    "##### Print clustering metrics for community_louvain clustering method\n",
    "###### Save the results on the spreasheet - (Tab \"Graphs-CommtyData\")"
   ]
  },
  {
   "cell_type": "code",
   "execution_count": null,
   "metadata": {},
   "outputs": [],
   "source": [
    "x.print_commty_cluster_metrics(G, comm_att = 'community_louvain', ignore_cmmty_lt=100, acc_node_size_cutoff=30000)"
   ]
  },
  {
   "cell_type": "code",
   "execution_count": null,
   "metadata": {},
   "outputs": [],
   "source": []
  },
  {
   "cell_type": "markdown",
   "metadata": {},
   "source": [
    "##### Print clustering metrics for community_spectral clustering method\n",
    "###### Save the results on the spreasheet - (Tab \"Graphs-CommtyData\")"
   ]
  },
  {
   "cell_type": "code",
   "execution_count": null,
   "metadata": {},
   "outputs": [],
   "source": [
    "x.print_commty_cluster_metrics(G, comm_att = 'community_spectral', ignore_cmmty_lt=100, acc_node_size_cutoff=30000)"
   ]
  },
  {
   "cell_type": "code",
   "execution_count": null,
   "metadata": {},
   "outputs": [],
   "source": []
  },
  {
   "cell_type": "markdown",
   "metadata": {},
   "source": [
    "##### Print clustering metrics for the top 25 nodes clusters\n",
    "###### Save the results on the spreasheet - (Tab \"Graphs-CommtyData\")"
   ]
  },
  {
   "cell_type": "code",
   "execution_count": 1,
   "metadata": {},
   "outputs": [
    {
     "ename": "NameError",
     "evalue": "name 'x' is not defined",
     "output_type": "error",
     "traceback": [
      "\u001b[1;31m---------------------------------------------------------------------------\u001b[0m",
      "\u001b[1;31mNameError\u001b[0m                                 Traceback (most recent call last)",
      "\u001b[1;32m<ipython-input-1-80ff949251d6>\u001b[0m in \u001b[0;36m<module>\u001b[1;34m\u001b[0m\n\u001b[1;32m----> 1\u001b[1;33m \u001b[0mx\u001b[0m\u001b[1;33m.\u001b[0m\u001b[0mprint_top_nodes_cluster_metrics\u001b[0m\u001b[1;33m(\u001b[0m\u001b[0mG\u001b[0m\u001b[1;33m,\u001b[0m \u001b[1;36m25\u001b[0m\u001b[1;33m,\u001b[0m \u001b[0macc_node_size_cutoff\u001b[0m\u001b[1;33m=\u001b[0m\u001b[1;36m30000\u001b[0m\u001b[1;33m)\u001b[0m\u001b[1;33m\u001b[0m\u001b[1;33m\u001b[0m\u001b[0m\n\u001b[0m",
      "\u001b[1;31mNameError\u001b[0m: name 'x' is not defined"
     ]
    }
   ],
   "source": [
    "x.print_top_nodes_cluster_metrics(G, 25, acc_node_size_cutoff=30000)"
   ]
  },
  {
   "cell_type": "code",
   "execution_count": null,
   "metadata": {},
   "outputs": [],
   "source": []
  },
  {
   "cell_type": "code",
   "execution_count": null,
   "metadata": {},
   "outputs": [],
   "source": []
  },
  {
   "cell_type": "code",
   "execution_count": null,
   "metadata": {},
   "outputs": [],
   "source": []
  },
  {
   "cell_type": "code",
   "execution_count": null,
   "metadata": {},
   "outputs": [],
   "source": []
  },
  {
   "cell_type": "code",
   "execution_count": null,
   "metadata": {},
   "outputs": [],
   "source": []
  },
  {
   "cell_type": "code",
   "execution_count": null,
   "metadata": {},
   "outputs": [],
   "source": []
  },
  {
   "cell_type": "markdown",
   "metadata": {},
   "source": [
    "##### Graph Reduction"
   ]
  },
  {
   "cell_type": "code",
   "execution_count": null,
   "metadata": {},
   "outputs": [],
   "source": [
    "## TYPE OF GRAPH ANALYSIS\n",
    "########################################################\n",
    "# Type of graph analysis\n",
    "# Options: user_conn_all,       --All user connections\n",
    "#          user_conn_mention,   --Only Mentions user connections\n",
    "#          user_conn_retweet,   --Only Retweets user connections\n",
    "#          user_conn_reply,     --Only Replies user connections\n",
    "#          user_conn_quote,     --Only Quotes user connections\n",
    "#          ht_conn              --Hashtag connects - (Hashtgs that wereused together)\n",
    "\n",
    "TYPE_OF_GRAPH = 'user_conn_all'\n",
    "#------------------------------------------------------------"
   ]
  },
  {
   "cell_type": "code",
   "execution_count": null,
   "metadata": {},
   "outputs": [],
   "source": [
    "edge_prefix_str = ''\n",
    "case_ht_str = ''\n",
    "if TYPE_OF_GRAPH == 'user_conn_all':\n",
    "    edge_prefix_str = 'UserConnections_'                \n",
    "elif TYPE_OF_GRAPH == 'user_conn_mention':\n",
    "    edge_prefix_str = 'MentionUserConnections_'    \n",
    "elif TYPE_OF_GRAPH == 'user_conn_retweet':\n",
    "    edge_prefix_str = 'RetweetUserConnections_'    \n",
    "elif TYPE_OF_GRAPH == 'user_conn_reply':\n",
    "    edge_prefix_str = 'ReplyUserConnections_'    \n",
    "elif TYPE_OF_GRAPH == 'user_conn_quote':\n",
    "    edge_prefix_str = 'QuoteUserConnections_'    \n",
    "elif TYPE_OF_GRAPH== 'ht_conn':\n",
    "    edge_prefix_str = 'HTConnection_'\n",
    "    case_ht_str = 'ht_'  \n",
    "        \n",
    "edge_file_path = BASE_PATH + '\\\\data_input_files\\\\' + edge_prefix_str + 'AllPeriods_' + case_ht_str + 'edges.txt'\n",
    "\n",
    "G = x.loadGraphFromFile(edge_file_path)\n",
    "G = x.largest_component_no_self_loops(G)"
   ]
  },
  {
   "cell_type": "code",
   "execution_count": null,
   "metadata": {},
   "outputs": [],
   "source": [
    "# Set configurations\n",
    "x.setConfigs(type_of_graph=TYPE_OF_GRAPH,\n",
    "            period_arr=PERIOD_ARR,\n",
    "            create_graphs_files_flag=CREATE_GRAPHS_FILES_FLAG, \n",
    "            top_ht_to_ignore=TOP_HT_TO_IGNORE,\n",
    "            graph_plot_cutoff_no_nodes=GRAPH_PLOT_CUTOFF_NO_NODES, \n",
    "            graph_plot_cutoff_no_edges=GRAPH_PLOT_CUTOFF_NO_EDGES,\n",
    "            create_graph_without_node_scale_flag=CREATE_GRAPH_WITHOUT_NODE_SCALE_FLAG, \n",
    "            create_graph_with_node_scale_flag=CREATE_GRAPH_WITH_NODE_SCALE_FLAG,\n",
    "            create_reduced_graph_flag=CREATE_REDUCED_GRAPH_FLAG,\n",
    "            reduced_graph_comty_contract_per=REDUCED_GRAPH_COMTY_PER,\n",
    "            reduced_graph_remove_edge_weight=REDUCED_GRAPH_REMOVE_EDGE_WEIGHT,\n",
    "            reduced_graph_remove_edges=REDUCED_GRAPH_REMOVE_EDGES_UNTIL_CUTOFF_FLAG,            \n",
    "            commty_edge_size_cutoff=COMMTY_EDGE_SIZE_CUTOFF\n",
    "            )"
   ]
  },
  {
   "cell_type": "code",
   "execution_count": null,
   "metadata": {},
   "outputs": [],
   "source": []
  },
  {
   "cell_type": "code",
   "execution_count": null,
   "metadata": {},
   "outputs": [],
   "source": []
  },
  {
   "cell_type": "code",
   "execution_count": null,
   "metadata": {},
   "outputs": [],
   "source": []
  },
  {
   "cell_type": "code",
   "execution_count": null,
   "metadata": {},
   "outputs": [],
   "source": []
  },
  {
   "cell_type": "markdown",
   "metadata": {},
   "source": [
    "##### Insertion Experiments - (Tab DB-Performance)"
   ]
  },
  {
   "cell_type": "code",
   "execution_count": 1,
   "metadata": {},
   "outputs": [],
   "source": [
    "import pytwanalysis as ta\n",
    "from pymongo import MongoClient\n",
    "import time\n",
    "\n",
    "#db connection\n",
    "mongoDBConnectionSTR = \"mongodb://localhost:27017\"\n",
    "client = MongoClient(mongoDBConnectionSTR)\n",
    "db = client.myTwitterDB_MeToo_perf_tst2 #choose your DB name here\n",
    "\n",
    "BASE_PATH = 'D:\\\\Data\\\\Experiments\\\\metoo_perf_tsts2'\n",
    "x = ta.TwitterAnalysis(BASE_PATH, db)\n",
    "\n",
    "# This is the folder path where all of your twitter json files should be\n",
    "JSON_FILES_PATH = 'D:\\\\Data\\\\MeToo\\\\original_files\\\\json_files'"
   ]
  },
  {
   "cell_type": "code",
   "execution_count": 2,
   "metadata": {},
   "outputs": [
    {
     "name": "stdout",
     "output_type": "stream",
     "text": [
      "Loading...\n",
      "loading process started...2020-09-01 10:24:27\n",
      "loading process completed 2020-09-01 10:51:49\n",
      "Execution Time:  1641.2442967891693 seconds \n"
     ]
    }
   ],
   "source": [
    "print(\"Loading...\")\n",
    "starttime = time.time()\n",
    "\n",
    "# Load json files into mongoDB\n",
    "x.loadDocFromFile(JSON_FILES_PATH)\n",
    "\n",
    "endtime = time.time()\n",
    "print(\"Execution Time:  %s seconds \" % (endtime - starttime))"
   ]
  },
  {
   "cell_type": "code",
   "execution_count": null,
   "metadata": {},
   "outputs": [],
   "source": []
  },
  {
   "cell_type": "code",
   "execution_count": 3,
   "metadata": {},
   "outputs": [
    {
     "name": "stdout",
     "output_type": "stream",
     "text": [
      "loading process started (focusedTweet)... 2020-09-01 10:51:49\n",
      "loading process completed (focusedTweet)... 2020-09-01 11:05:30\n",
      "loading process started (users-tweet)... 2020-09-01 11:05:30\n",
      "loading process completed (users)... 2020-09-01 11:14:29\n",
      "loading process started (users-retweet)... 2020-09-01 11:14:29\n",
      "loading process completed (users)... 2020-09-01 11:22:44\n",
      "loading process started (users-quote)... 2020-09-01 11:22:44\n",
      "loading process completed (users)... 2020-09-01 11:28:43\n",
      "loading process started (users-reply)... 2020-09-01 11:28:43\n",
      "loading process completed (users)... 2020-09-01 11:33:51\n",
      "loading process started (users-mention)... 2020-09-01 11:33:51\n",
      "loading process completed (users)... 2020-09-01 11:46:07\n",
      "loading process started (tweetWords)... 2020-09-01 11:46:07\n",
      "loading process completed (tweetWords)... 2020-09-01 13:48:44\n",
      "loading process started (tweetConnections)... 2020-09-01 13:48:44\n",
      "loading process completed (tweetConnections)... 2020-09-01 14:02:57\n",
      "loading process started (tweetHTConnections)... 2020-09-01 14:02:57\n",
      "loading process completed (tweetHTConnections)... 2020-09-01 14:07:35\n",
      "loading tweetCountByFile process started....\n",
      "loading tweetCountByFile process completed.\n",
      "loading tweetCountByLanguageAgg process started....\n",
      "loading tweetCountByLanguageAgg process completed.\n",
      "loading tweetCountByMonthAgg process started....\n",
      "loading tweetCountByMonthAgg process completed.\n"
     ]
    }
   ],
   "source": [
    "# If you have a file with a list of user ids that are bots, \n",
    "# you ca set the path of that file here. If not, set this variable to None\n",
    "bots_list_file = None\n",
    "\n",
    "# You can set the number of tweets to load at a time. \n",
    "# (Large number may cause out of memory errors, low number may take a long time to run)\n",
    "step = 100000\n",
    "\n",
    "# Build collections\n",
    "x.build_db_collections(step, bots_ids_list_file=bots_list_file)"
   ]
  },
  {
   "cell_type": "code",
   "execution_count": null,
   "metadata": {},
   "outputs": [],
   "source": []
  },
  {
   "cell_type": "code",
   "execution_count": null,
   "metadata": {},
   "outputs": [],
   "source": []
  },
  {
   "cell_type": "code",
   "execution_count": null,
   "metadata": {},
   "outputs": [],
   "source": [
    "print(\"Loading...\")\n",
    "starttime = time.time()\n",
    "\n",
    "step = 100000  # You can set the number of tweets to load at a time. (Large number may cause out of memory errors, low number may take a long time to run)\n",
    "x.loadFocusedData(step)\n",
    "\n",
    "endtime = time.time()\n",
    "print(\"Execution Time:  %s seconds \" % (endtime - starttime))"
   ]
  },
  {
   "cell_type": "code",
   "execution_count": null,
   "metadata": {},
   "outputs": [],
   "source": [
    "print(\"Loading...\")\n",
    "starttime = time.time()\n",
    "\n",
    "step = 100000  # You can set the number of tweets to load at a time. (Large number may cause out of memory errors, low number may take a long time to run)\n",
    "x.loadUsersData(step, 'tweet')\n",
    "x.loadUsersData(step, 'retweet')\n",
    "x.loadUsersData(step, 'quote')\n",
    "x.loadUsersData(step, 'reply')\n",
    "x.loadUsersData(step, 'mention')\n",
    "\n",
    "endtime = time.time()\n",
    "print(\"Execution Time:  %s seconds \" % (endtime - starttime))"
   ]
  },
  {
   "cell_type": "code",
   "execution_count": null,
   "metadata": {},
   "outputs": [],
   "source": [
    "print(\"Loading...\")\n",
    "starttime = time.time()\n",
    "\n",
    "step = 100000  \n",
    "x.loadWordsData(step)\n",
    "\n",
    "endtime = time.time()\n",
    "print(\"Execution Time:  %s seconds \" % (endtime - starttime))"
   ]
  },
  {
   "cell_type": "code",
   "execution_count": null,
   "metadata": {},
   "outputs": [],
   "source": [
    "print(\"Loading...\")\n",
    "starttime = time.time()\n",
    "\n",
    "step = 100000  \n",
    "x.loadTweetConnections(step)\n",
    "\n",
    "endtime = time.time()\n",
    "print(\"Execution Time:  %s seconds \" % (endtime - starttime))"
   ]
  },
  {
   "cell_type": "code",
   "execution_count": null,
   "metadata": {},
   "outputs": [],
   "source": [
    "print(\"Loading...\")\n",
    "starttime = time.time()\n",
    "\n",
    "step = 100000  \n",
    "x.loadTweetHTConnections(step) \n",
    "\n",
    "endtime = time.time()\n",
    "print(\"Execution Time:  %s seconds \" % (endtime - starttime))"
   ]
  },
  {
   "cell_type": "code",
   "execution_count": null,
   "metadata": {},
   "outputs": [],
   "source": [
    "print(\"Loading...\")\n",
    "starttime = time.time()\n",
    "\n",
    "x.loadAggregations('tweetCountByFile')\n",
    "\n",
    "endtime = time.time()\n",
    "print(\"Execution Time:  %s seconds \" % (endtime - starttime))"
   ]
  },
  {
   "cell_type": "code",
   "execution_count": null,
   "metadata": {},
   "outputs": [],
   "source": [
    "print(\"Loading...\")\n",
    "starttime = time.time()\n",
    "\n",
    "x.loadAggregations('tweetCountByLanguageAgg')\n",
    "\n",
    "endtime = time.time()\n",
    "print(\"Execution Time:  %s seconds \" % (endtime - starttime))"
   ]
  },
  {
   "cell_type": "code",
   "execution_count": null,
   "metadata": {},
   "outputs": [],
   "source": [
    "print(\"Loading...\")\n",
    "starttime = time.time()\n",
    "\n",
    "x.loadAggregations('tweetCountByMonthAgg')\n",
    "\n",
    "endtime = time.time()\n",
    "print(\"Execution Time:  %s seconds \" % (endtime - starttime))"
   ]
  },
  {
   "cell_type": "code",
   "execution_count": null,
   "metadata": {},
   "outputs": [],
   "source": []
  },
  {
   "cell_type": "code",
   "execution_count": null,
   "metadata": {},
   "outputs": [],
   "source": []
  },
  {
   "cell_type": "code",
   "execution_count": 7,
   "metadata": {},
   "outputs": [],
   "source": [
    "import os\n",
    "import sys\n",
    "\n",
    "sys.path.insert(0, os.path.abspath('..'))"
   ]
  },
  {
   "cell_type": "code",
   "execution_count": 13,
   "metadata": {},
   "outputs": [
    {
     "data": {
      "text/plain": [
       "'C:\\\\Users\\\\Lia\\\\Dropbox\\\\School\\\\1-Texas State classes\\\\2020-01-Thesis\\\\JLab\\\\GitHub\\\\Official-GitHub-pytwanalysis\\\\pytwanalysis\\\\pytwanalysis'"
      ]
     },
     "execution_count": 13,
     "metadata": {},
     "output_type": "execute_result"
    }
   ],
   "source": [
    "os.path.abspath('..\\\\pytwanalysis')"
   ]
  },
  {
   "cell_type": "code",
   "execution_count": 14,
   "metadata": {},
   "outputs": [
    {
     "data": {
      "text/plain": [
       "'C:\\\\Users\\\\Lia\\\\Dropbox\\\\School\\\\1-Texas State classes\\\\2020-01-Thesis\\\\JLab\\\\GitHub\\\\Official-GitHub-pytwanalysis\\\\pytwanalysis'"
      ]
     },
     "execution_count": 14,
     "metadata": {},
     "output_type": "execute_result"
    }
   ],
   "source": [
    "os.path.abspath('..')"
   ]
  },
  {
   "cell_type": "code",
   "execution_count": null,
   "metadata": {},
   "outputs": [],
   "source": []
  }
 ],
 "metadata": {
  "kernelspec": {
   "display_name": "Python 3",
   "language": "python",
   "name": "python3"
  },
  "language_info": {
   "codemirror_mode": {
    "name": "ipython",
    "version": 3
   },
   "file_extension": ".py",
   "mimetype": "text/x-python",
   "name": "python",
   "nbconvert_exporter": "python",
   "pygments_lexer": "ipython3",
   "version": "3.7.7"
  }
 },
 "nbformat": 4,
 "nbformat_minor": 4
}
